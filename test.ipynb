{
 "cells": [
  {
   "cell_type": "code",
   "execution_count": 1,
   "id": "28ce52b8",
   "metadata": {},
   "outputs": [
    {
     "name": "stderr",
     "output_type": "stream",
     "text": [
      "UsageError: Line magic function `%` not found.\n"
     ]
    }
   ],
   "source": [
    "import numpy as np\n",
    "import pandas as pd\n",
    "import plotly.express as px\n",
    "import matplotlib.pyplot as plt\n",
    "import matplotlib.dates as mdates\n",
    "import seaborn as sns\n",
    "\n",
    "%matplotlib inline\n",
    "%"
   ]
  },
  {
   "cell_type": "code",
   "execution_count": null,
   "id": "d6cd4970",
   "metadata": {},
   "outputs": [],
   "source": [
    "df = pd.read_csv('data/simulated-data.csv', encoding='latin1')"
   ]
  },
  {
   "cell_type": "code",
   "execution_count": null,
   "id": "b7efe62f",
   "metadata": {},
   "outputs": [],
   "source": [
    "df.info()"
   ]
  },
  {
   "cell_type": "code",
   "execution_count": null,
   "id": "04868563",
   "metadata": {},
   "outputs": [],
   "source": [
    "df.head()"
   ]
  },
  {
   "cell_type": "code",
   "execution_count": null,
   "id": "ef7a9901",
   "metadata": {},
   "outputs": [],
   "source": [
    "# added_date\n",
    "df['added_date'] = pd.to_datetime(df['added_date'])\n",
    "# start_date\n",
    "df['start_date'] = pd.to_datetime(df['start_date'])\n",
    "# end_date\n",
    "df['end_date'] = pd.to_datetime(df['end_date'])"
   ]
  },
  {
   "cell_type": "code",
   "execution_count": null,
   "id": "28fdf4f4",
   "metadata": {},
   "outputs": [],
   "source": [
    "# convert real_duration and returns to Int64\n",
    "df[['real_duration', 'returns']] = df[['real_duration', 'returns']].astype('Int64')"
   ]
  },
  {
   "cell_type": "code",
   "execution_count": null,
   "id": "165c069e",
   "metadata": {},
   "outputs": [],
   "source": [
    "df.info()"
   ]
  },
  {
   "cell_type": "code",
   "execution_count": null,
   "id": "48eeac40",
   "metadata": {},
   "outputs": [],
   "source": [
    "df.head()"
   ]
  },
  {
   "cell_type": "code",
   "execution_count": null,
   "id": "5847ab26",
   "metadata": {},
   "outputs": [],
   "source": [
    "df_alt = df.dropna()"
   ]
  },
  {
   "cell_type": "code",
   "execution_count": null,
   "id": "7d83d23b",
   "metadata": {},
   "outputs": [],
   "source": [
    "df_alt.info()"
   ]
  },
  {
   "cell_type": "code",
   "execution_count": null,
   "id": "d6869c15",
   "metadata": {},
   "outputs": [],
   "source": [
    "# df_alt.to_csv('data/simulated-data-alt.csv')"
   ]
  },
  {
   "cell_type": "code",
   "execution_count": null,
   "id": "45d737af",
   "metadata": {},
   "outputs": [],
   "source": [
    "df['end_date_month'] = df['end_date'].dt.month.astype('Int64')"
   ]
  },
  {
   "cell_type": "code",
   "execution_count": null,
   "id": "405fb9ef",
   "metadata": {},
   "outputs": [],
   "source": [
    "df.query('end_date >= \"2017-01-01\" and end_date < \"2017-02-01\"')"
   ]
  },
  {
   "cell_type": "code",
   "execution_count": null,
   "id": "21d964f3",
   "metadata": {},
   "outputs": [],
   "source": [
    "df2 = df.copy()"
   ]
  },
  {
   "cell_type": "code",
   "execution_count": null,
   "id": "22f1a20d",
   "metadata": {},
   "outputs": [],
   "source": [
    "df2['end_date'] = pd.to_datetime(df2['end_date'], format=\"%Y-%m\")"
   ]
  },
  {
   "cell_type": "code",
   "execution_count": null,
   "id": "b5fb6210",
   "metadata": {},
   "outputs": [],
   "source": [
    "df['end_year'] = df['end_date'].dt.year.astype('Int64')"
   ]
  },
  {
   "cell_type": "code",
   "execution_count": null,
   "id": "f9edf92a",
   "metadata": {},
   "outputs": [],
   "source": [
    "group = df.groupby(['end_year'], as_index=False)['status'].count()"
   ]
  },
  {
   "cell_type": "code",
   "execution_count": null,
   "id": "89525a3b",
   "metadata": {},
   "outputs": [],
   "source": [
    "group"
   ]
  },
  {
   "cell_type": "code",
   "execution_count": null,
   "id": "4a04fc21",
   "metadata": {},
   "outputs": [],
   "source": [
    "group = group.query('status > 7')"
   ]
  },
  {
   "cell_type": "code",
   "execution_count": null,
   "id": "b5cd727a",
   "metadata": {},
   "outputs": [],
   "source": [
    "sns.lineplot(data=group, x='end_year', y='status')"
   ]
  },
  {
   "cell_type": "code",
   "execution_count": null,
   "id": "5910fb88",
   "metadata": {},
   "outputs": [],
   "source": [
    "# px.line(df_alt, x='start_date', y='returns', color='dev')"
   ]
  },
  {
   "cell_type": "code",
   "execution_count": null,
   "id": "94e43bc6",
   "metadata": {},
   "outputs": [],
   "source": [
    "group"
   ]
  },
  {
   "cell_type": "code",
   "execution_count": null,
   "id": "4d1a135d",
   "metadata": {},
   "outputs": [],
   "source": [
    "df_2022 = df.query('end_date >= \"2022-01-01\" and end_date <= \"2022-06-30\"')"
   ]
  },
  {
   "cell_type": "code",
   "execution_count": null,
   "id": "50d27b86",
   "metadata": {},
   "outputs": [],
   "source": [
    "df_2022 = df_2022.dropna()"
   ]
  },
  {
   "cell_type": "code",
   "execution_count": null,
   "id": "e916c338",
   "metadata": {},
   "outputs": [],
   "source": [
    "plt.figure(figsize=[11,4])\n",
    "\n",
    "bins = np.arange(np.datetime64('2012-01-01'), np.datetime64('2016-06-30'), 30)\n",
    "\n",
    "ax = sns.histplot(data=df_2022, x='end_date', hue='dev')\n",
    "ax.xaxis.set_major_locator(mdates.MonthLocator(interval=1))\n",
    "ax.xaxis.set_major_formatter(mdates.DateFormatter('%m/%Y'))\n",
    "plt.gcf().autofmt_xdate()"
   ]
  },
  {
   "cell_type": "code",
   "execution_count": null,
   "id": "afa8234b",
   "metadata": {},
   "outputs": [],
   "source": [
    "df"
   ]
  },
  {
   "cell_type": "code",
   "execution_count": null,
   "id": "f9d19dea",
   "metadata": {},
   "outputs": [],
   "source": [
    "plt.figure(figsize=[11,4])\n",
    "fig = px.histogram(df_2022, x='end_date')\n",
    "fig.update_layout(bargap=0.2)\n",
    "fig.show()"
   ]
  },
  {
   "cell_type": "code",
   "execution_count": null,
   "id": "f8260369",
   "metadata": {},
   "outputs": [],
   "source": [
    "# df.groupby(pd.Grouper(key='end_date', axis=0, freq='M')).count()"
   ]
  },
  {
   "cell_type": "code",
   "execution_count": null,
   "id": "1d860341",
   "metadata": {},
   "outputs": [],
   "source": [
    "df.groupby('end_date').agg(sum).astype('Int64')"
   ]
  },
  {
   "cell_type": "code",
   "execution_count": null,
   "id": "9e282e83",
   "metadata": {},
   "outputs": [],
   "source": []
  }
 ],
 "metadata": {
  "kernelspec": {
   "display_name": "Python [conda env:dash] *",
   "language": "python",
   "name": "conda-env-dash-py"
  },
  "language_info": {
   "codemirror_mode": {
    "name": "ipython",
    "version": 3
   },
   "file_extension": ".py",
   "mimetype": "text/x-python",
   "name": "python",
   "nbconvert_exporter": "python",
   "pygments_lexer": "ipython3",
   "version": "3.10.4"
  }
 },
 "nbformat": 4,
 "nbformat_minor": 5
}
